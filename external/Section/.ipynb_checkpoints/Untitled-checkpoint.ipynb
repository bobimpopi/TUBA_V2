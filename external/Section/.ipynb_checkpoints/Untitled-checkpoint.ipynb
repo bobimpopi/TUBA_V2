{
 "cells": [
  {
   "cell_type": "code",
   "execution_count": 3,
   "metadata": {
    "collapsed": true
   },
   "outputs": [],
   "source": []
  },
  {
   "cell_type": "code",
   "execution_count": 7,
   "metadata": {},
   "outputs": [],
   "source": [
    "import csv\n",
    "with open(\"SectionAuto.output\",'r') as file:\n",
    "    data_iter=csv.reader(file)\n",
    "    data=[data for data in data_iter]"
   ]
  },
  {
   "cell_type": "code",
   "execution_count": 10,
   "metadata": {},
   "outputs": [
    {
     "data": {
      "text/plain": [
       "['IPEAA80',\n",
       " '630.723653',\n",
       " '-0.000000',\n",
       " '-0.000000',\n",
       " '641124.754673',\n",
       " '68504.534467',\n",
       " '0.000000',\n",
       " '630.723653',\n",
       " '-0.000000',\n",
       " '-0.000000',\n",
       " '641124.754673',\n",
       " '68504.534467',\n",
       " '0.000000',\n",
       " '68504.534467',\n",
       " '641124.754673',\n",
       " '90.000000',\n",
       " '39.000000',\n",
       " '-39.000000',\n",
       " '23.000000',\n",
       " '-23.000000',\n",
       " '45.276926',\n",
       " '39.000000',\n",
       " '23.000000',\n",
       " '0.000000',\n",
       " '0.000000',\n",
       " '641124.754673',\n",
       " '68504.534467',\n",
       " '0.000000',\n",
       " '-0.000247',\n",
       " '0.000174',\n",
       " '-0.000174',\n",
       " '-0.000247',\n",
       " '-0.000247',\n",
       " '0.000174',\n",
       " '3774.685773',\n",
       " '6.019863',\n",
       " '-0.000021',\n",
       " '-0.000010',\n",
       " '-0.000010',\n",
       " '0.000021',\n",
       " '90698493.273713',\n",
       " '2.627857',\n",
       " '1.758472']"
      ]
     },
     "execution_count": 10,
     "metadata": {},
     "output_type": "execute_result"
    }
   ],
   "source": [
    "data[:][1]"
   ]
  },
  {
   "cell_type": "code",
   "execution_count": null,
   "metadata": {
    "collapsed": true
   },
   "outputs": [],
   "source": []
  }
 ],
 "metadata": {
  "kernelspec": {
   "display_name": "Python 2",
   "language": "python",
   "name": "python2"
  },
  "language_info": {
   "codemirror_mode": {
    "name": "ipython",
    "version": 2
   },
   "file_extension": ".py",
   "mimetype": "text/x-python",
   "name": "python",
   "nbconvert_exporter": "python",
   "pygments_lexer": "ipython2",
   "version": "2.7.14"
  }
 },
 "nbformat": 4,
 "nbformat_minor": 2
}
